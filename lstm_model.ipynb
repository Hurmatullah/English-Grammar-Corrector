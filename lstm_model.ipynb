{
  "cells": [
    {
      "cell_type": "code",
      "execution_count": 1,
      "metadata": {
        "colab": {
          "base_uri": "https://localhost:8080/"
        },
        "id": "MMaKmeYfy3cu",
        "outputId": "b8c53176-15e1-45ef-c747-c9b495be87ac"
      },
      "outputs": [
        {
          "name": "stdout",
          "output_type": "stream",
          "text": [
            "Collecting textstat\n",
            "  Downloading textstat-0.7.3-py3-none-any.whl (105 kB)\n",
            "\u001b[2K     \u001b[90m━━━━━━━━━━━━━━━━━━━━━━━━━━━━━━━━━━━━━━━━\u001b[0m \u001b[32m105.1/105.1 kB\u001b[0m \u001b[31m3.0 MB/s\u001b[0m eta \u001b[36m0:00:00\u001b[0m\n",
            "\u001b[?25hCollecting pyphen (from textstat)\n",
            "  Downloading pyphen-0.14.0-py3-none-any.whl (2.0 MB)\n",
            "\u001b[2K     \u001b[90m━━━━━━━━━━━━━━━━━━━━━━━━━━━━━━━━━━━━━━━━\u001b[0m \u001b[32m2.0/2.0 MB\u001b[0m \u001b[31m63.5 MB/s\u001b[0m eta \u001b[36m0:00:00\u001b[0m\n",
            "\u001b[?25hInstalling collected packages: pyphen, textstat\n",
            "Successfully installed pyphen-0.14.0 textstat-0.7.3\n"
          ]
        }
      ],
      "source": [
        "pip install textstat"
      ]
    },
    {
      "cell_type": "code",
      "execution_count": 17,
      "metadata": {
        "id": "mHKINILqgUfp"
      },
      "outputs": [],
      "source": [
        "import nltk\n",
        "import warnings\n",
        "import tensorflow as tf\n",
        "import matplotlib.pyplot as plt\n",
        "from tensorflow.keras.callbacks import LearningRateScheduler, TensorBoard, ReduceLROnPlateau, ModelCheckpoint, EarlyStopping\n",
        "from tensorflow.keras.preprocessing.sequence import pad_sequences\n",
        "from tensorflow.keras.layers import Embedding, LSTM, Dense, RNN\n",
        "from tensorflow.keras.preprocessing.text import Tokenizer\n",
        "from nltk.stem import WordNetLemmatizer,PorterStemmer\n",
        "from tensorflow.keras.optimizers import Adam, Nadam\n",
        "from nltk.translate.gleu_score import sentence_gleu\n",
        "from tensorflow.keras.models import Model\n",
        "from google.colab import drive\n",
        "from nltk.tokenize import word_tokenize\n",
        "warnings.filterwarnings(\"ignore\")\n",
        "from textblob import TextBlob\n",
        "from nltk.util import ngrams\n",
        "import matplotlib.cm as cm\n",
        "import matplotlib as mpl\n",
        "from tqdm import tqdm\n",
        "import pandas as pd\n",
        "import numpy as np\n",
        "import zipfile\n",
        "import random\n",
        "import pickle\n",
        "import re"
      ]
    },
    {
      "cell_type": "code",
      "execution_count": 3,
      "metadata": {
        "colab": {
          "base_uri": "https://localhost:8080/"
        },
        "id": "J8cXzDl5QQ5Y",
        "outputId": "d1905d06-5bbd-4d38-bdc3-0ff70c233091"
      },
      "outputs": [
        {
          "name": "stdout",
          "output_type": "stream",
          "text": [
            "Mounted at /content/drive\n"
          ]
        }
      ],
      "source": [
        "drive.mount('/content/drive')"
      ]
    },
    {
      "cell_type": "code",
      "execution_count": 5,
      "metadata": {
        "id": "bcc-nnr-iyqe"
      },
      "outputs": [],
      "source": [
        "tokenizer_enc = pickle.load(open(r\"/content/drive/MyDrive/GecDataset/tokenizer_encoder.pkl\", \"rb\"))\n",
        "tokenizer_dec = pickle.load(open(r\"/content/drive/MyDrive/GecDataset/tokenizer_decoder.pkl\", \"rb\"))\n",
        "\n",
        "train_enc_inp = pickle.load(open(r\"/content/drive/MyDrive/GecDataset/train_encoder_input.pkl\", \"rb\"))\n",
        "val_enc_inp = pickle.load(open(r\"/content/drive/MyDrive/GecDataset/validation_encoder_input.pkl\", \"rb\"))\n",
        "test_enc_inp = pickle.load(open(r\"/content/drive/MyDrive/GecDataset/test_encoder_input.pkl\", \"rb\"))\n",
        "\n",
        "train_dec_inp = pickle.load(open(r\"/content/drive/MyDrive/GecDataset/train_decoder_input.pkl\", \"rb\"))\n",
        "val_dec_inp = pickle.load(open(r\"/content/drive/MyDrive/GecDataset/validation_decoder_input.pkl\", \"rb\"))\n",
        "test_dec_inp = pickle.load(open(r\"/content/drive/MyDrive/GecDataset/test_decoder_input.pkl\", \"rb\"))\n",
        "\n",
        "train_dec_out = pickle.load(open(r\"/content/drive/MyDrive/GecDataset/train_decoder_output.pkl\", \"rb\"))\n",
        "val_dec_out = pickle.load(open(r\"/content/drive/MyDrive/GecDataset/validation_decoder_output.pkl\", \"rb\"))\n",
        "test_dec_out = pickle.load(open(r\"/content/drive/MyDrive/GecDataset/test_decoder_output.pkl\", \"rb\"))"
      ]
    },
    {
      "cell_type": "code",
      "execution_count": 6,
      "metadata": {
        "id": "yDYIIm_biyqg"
      },
      "outputs": [],
      "source": [
        "class Encoder(tf.keras.Model):\n",
        "\n",
        "\n",
        "    def __init__(self, vocab_size, output_dim, enc_units, input_length):\n",
        "        super().__init__()\n",
        "        self.vocab_size = vocab_size\n",
        "        self.output_dim = output_dim\n",
        "        self.input_length = input_length\n",
        "        self.enc_units = enc_units\n",
        "        self.enc_output = 0\n",
        "        self.enc_state_h = 0\n",
        "        self.enc_state_c = 0\n",
        "\n",
        "        self.embedding = Embedding(input_dim=self.vocab_size, output_dim=self.output_dim,\n",
        "                                   input_length=self.input_length, mask_zero=True, name=\"embedding_layer_encoder\")\n",
        "\n",
        "        self.enc = LSTM(self.enc_units, return_state=True, return_sequences=True, name=\"Encoder_LSTM\")\n",
        "\n",
        "    def call(self,input_sequence, states):\n",
        "        input_embedding = self.embedding(input_sequence)\n",
        "        self.enc_output, self.enc_state_h, self.enc_state_c = self.enc(input_embedding, initial_state=states)\n",
        "        return self.enc_output, self.enc_state_h, self.enc_state_c\n",
        "\n",
        "    def initialize_states(self, batch_size):\n",
        "        ini_hidden_state = tf.zeros(shape=(batch_size, self.enc_units))\n",
        "        ini_cell_state = tf.zeros(shape=(batch_size, self.enc_units))\n",
        "        return ini_hidden_state, ini_cell_state"
      ]
    },
    {
      "cell_type": "code",
      "execution_count": 7,
      "metadata": {
        "id": "FL4PqI37iyqh"
      },
      "outputs": [],
      "source": [
        "class Decoder(tf.keras.Model):\n",
        "\n",
        "\n",
        "    def __init__(self, vocab_size, output_dim, dec_units, input_length):\n",
        "        super().__init__()\n",
        "        self.vocab_size = vocab_size\n",
        "        self.output_dim = output_dim\n",
        "        self.dec_units = dec_units\n",
        "        self.input_length = input_length\n",
        "\n",
        "        self.embedding = Embedding(input_dim=self.vocab_size, output_dim=self.output_dim,\n",
        "                                   input_length=self.input_length, mask_zero=True, name=\"embedding_layer_decoder\")\n",
        "\n",
        "        self.dec = LSTM(self.dec_units, return_sequences=True, return_state=True, name=\"Decoder_LSTM\")\n",
        "\n",
        "    def call(self,input_sequence, initial_states):\n",
        "        target_embedding = self.embedding(input_sequence)\n",
        "        dec_output, dec_state_h, dec_state_c = self.dec(target_embedding, initial_state=initial_states)\n",
        "        return dec_output, dec_state_h, dec_state_c"
      ]
    },
    {
      "cell_type": "code",
      "execution_count": 8,
      "metadata": {
        "id": "rfhR4UcGiyqh"
      },
      "outputs": [],
      "source": [
        "class Encoder_decoder(tf.keras.Model):\n",
        "\n",
        "\n",
        "    def __init__(self, enc_vocab_size, enc_output_dim, enc_inp_length, enc_units,\n",
        "                 dec_vocab_size, dec_output_dim, dec_inp_length, dec_units, batch_size):\n",
        "\n",
        "        super().__init__()\n",
        "        self.encoder = Encoder(vocab_size=enc_vocab_size, output_dim=enc_output_dim,\n",
        "                               input_length=enc_inp_length, enc_units=enc_units)\n",
        "        self.decoder = Decoder(vocab_size=dec_vocab_size, output_dim=dec_output_dim,\n",
        "                               input_length=dec_inp_length, dec_units=dec_units)\n",
        "        self.dense   = Dense(dec_vocab_size, activation='softmax')\n",
        "        self.ini_states = self.encoder.initialize_states(batch_size=batch_size)\n",
        "\n",
        "    def call(self,data):\n",
        "        input,output = data[0], data[1]\n",
        "        enc_output, enc_h,enc_c = self.encoder(input, self.ini_states)\n",
        "        dec_output, dec_h,dec_c = self.decoder(output, [enc_h, enc_c])\n",
        "        output = self.dense(dec_output)\n",
        "        return output"
      ]
    },
    {
      "cell_type": "code",
      "execution_count": 9,
      "metadata": {
        "id": "sMEJ7IZciyqi"
      },
      "outputs": [],
      "source": [
        "loss_object = tf.keras.losses.SparseCategoricalCrossentropy(from_logits=True, reduction='none')\n",
        "\n",
        "def loss_function(real, pred):\n",
        "    mask = tf.math.logical_not(tf.math.equal(real, 0))\n",
        "    loss_ = loss_object(real, pred)\n",
        "    mask = tf.cast(mask, dtype=loss_.dtype)\n",
        "    loss_ *= mask\n",
        "    return tf.reduce_mean(loss_)"
      ]
    },
    {
      "cell_type": "code",
      "execution_count": 10,
      "metadata": {
        "id": "qMU2pT6Biyqi"
      },
      "outputs": [],
      "source": [
        "enc_voc_size = len(tokenizer_enc.word_index) + 1\n",
        "dec_voc_size = len(tokenizer_dec.word_index) + 1\n",
        "embedd_dim = 100\n",
        "enc_inp_len = 12\n",
        "dec_inp_len = 13\n",
        "lstm_size = 64\n",
        "batch_size = 1024"
      ]
    },
    {
      "cell_type": "code",
      "execution_count": 11,
      "metadata": {
        "id": "1lSUa7nniyqj"
      },
      "outputs": [],
      "source": [
        "train_trunc_idx = (train_enc_inp.shape[0]//batch_size)*batch_size\n",
        "val_trunc_idx = (val_enc_inp.shape[0]//batch_size)*batch_size\n",
        "\n",
        "train_enc_inp_truncated = train_enc_inp[:train_trunc_idx]\n",
        "train_dec_inp_truncated = train_dec_inp[:train_trunc_idx]\n",
        "train_dec_out_truncated = train_dec_out[:train_trunc_idx]\n",
        "\n",
        "val_enc_inp_truncated = val_enc_inp[:val_trunc_idx]\n",
        "val_dec_inp_truncated = val_dec_inp[:val_trunc_idx]\n",
        "val_dec_out_truncated = val_dec_out[:val_trunc_idx]"
      ]
    },
    {
      "cell_type": "code",
      "execution_count": 12,
      "metadata": {
        "id": "5fyPO5eWiyqj"
      },
      "outputs": [],
      "source": [
        "model  = Encoder_decoder(enc_vocab_size=enc_voc_size,enc_output_dim=embedd_dim,\n",
        "                         enc_inp_length=enc_inp_len,enc_units=lstm_size,\n",
        "                         dec_vocab_size=dec_voc_size,dec_output_dim=embedd_dim,\n",
        "                         dec_inp_length=dec_inp_len,dec_units=lstm_size,\n",
        "                         batch_size=batch_size)\n",
        "\n",
        "log_dir=f'/lstm/Logs/'\n",
        "early_stop = EarlyStopping(monitor='val_loss', min_delta=0.001, patience=10, verbose=1, mode='min')\n",
        "reduce_lr = ReduceLROnPlateau(monitor='val_loss', min_delta=0.001, patience=5, verbose=1, factor=0.9)\n",
        "check_point = ModelCheckpoint('/lstm/model/', monitor='val_loss',\n",
        "                              save_best_only=True, save_weights_only=True, mode='min', verbose=0)"
      ]
    },
    {
      "cell_type": "code",
      "execution_count": 13,
      "metadata": {
        "id": "neBk9fX-iyqq"
      },
      "outputs": [],
      "source": [
        "model.compile(optimizer=Adam(learning_rate=0.001), loss=loss_function)"
      ]
    },
    {
      "cell_type": "code",
      "execution_count": null,
      "metadata": {
        "colab": {
          "base_uri": "https://localhost:8080/"
        },
        "id": "S25xYDZqiyqq",
        "outputId": "6e2369dd-bc95-4eb4-fe25-96f35e09174b"
      },
      "outputs": [
        {
          "name": "stdout",
          "output_type": "stream",
          "text": [
            "Epoch 1/30\n",
            "392/392 [==============================] - 285s 695ms/step - loss: 5.7842 - val_loss: 5.0917 - lr: 0.0010\n",
            "Epoch 2/30\n",
            "392/392 [==============================] - 235s 600ms/step - loss: 4.9633 - val_loss: 4.7120 - lr: 0.0010\n",
            "Epoch 3/30\n",
            "392/392 [==============================] - 226s 577ms/step - loss: 4.5148 - val_loss: 4.2046 - lr: 0.0010\n",
            "Epoch 4/30\n",
            "392/392 [==============================] - 224s 571ms/step - loss: 4.0425 - val_loss: 3.8122 - lr: 0.0010\n",
            "Epoch 5/30\n",
            "392/392 [==============================] - 227s 579ms/step - loss: 3.7223 - val_loss: 3.5691 - lr: 0.0010\n",
            "Epoch 6/30\n",
            "392/392 [==============================] - 222s 567ms/step - loss: 3.4821 - val_loss: 3.3647 - lr: 0.0010\n",
            "Epoch 7/30\n",
            "392/392 [==============================] - 223s 568ms/step - loss: 3.2672 - val_loss: 3.1904 - lr: 0.0010\n",
            "Epoch 8/30\n",
            "392/392 [==============================] - 221s 565ms/step - loss: 3.0812 - val_loss: 3.0460 - lr: 0.0010\n",
            "Epoch 9/30\n",
            "392/392 [==============================] - 226s 576ms/step - loss: 2.9204 - val_loss: 2.9256 - lr: 0.0010\n",
            "Epoch 10/30\n",
            "392/392 [==============================] - 222s 565ms/step - loss: 2.7807 - val_loss: 2.8285 - lr: 0.0010\n",
            "Epoch 11/30\n",
            "392/392 [==============================] - 227s 578ms/step - loss: 2.6601 - val_loss: 2.7484 - lr: 0.0010\n",
            "Epoch 12/30\n",
            "392/392 [==============================] - 221s 564ms/step - loss: 2.5554 - val_loss: 2.6828 - lr: 0.0010\n",
            "Epoch 13/30\n",
            "392/392 [==============================] - 222s 565ms/step - loss: 2.4622 - val_loss: 2.6263 - lr: 0.0010\n",
            "Epoch 14/30\n",
            "392/392 [==============================] - 213s 544ms/step - loss: 2.3795 - val_loss: 2.5749 - lr: 0.0010\n",
            "Epoch 15/30\n",
            "392/392 [==============================] - 221s 563ms/step - loss: 2.3049 - val_loss: 2.5353 - lr: 0.0010\n",
            "Epoch 16/30\n",
            "392/392 [==============================] - 212s 542ms/step - loss: 2.2386 - val_loss: 2.5006 - lr: 0.0010\n",
            "Epoch 17/30\n",
            "392/392 [==============================] - 214s 545ms/step - loss: 2.1785 - val_loss: 2.4716 - lr: 0.0010\n",
            "Epoch 18/30\n",
            "392/392 [==============================] - 222s 566ms/step - loss: 2.1239 - val_loss: 2.4460 - lr: 0.0010\n",
            "Epoch 19/30\n",
            "392/392 [==============================] - 226s 576ms/step - loss: 2.0733 - val_loss: 2.4256 - lr: 0.0010\n",
            "Epoch 20/30\n",
            "392/392 [==============================] - 222s 568ms/step - loss: 2.0268 - val_loss: 2.4088 - lr: 0.0010\n",
            "Epoch 21/30\n",
            "392/392 [==============================] - 223s 569ms/step - loss: 1.9833 - val_loss: 2.3878 - lr: 0.0010\n",
            "Epoch 22/30\n",
            "392/392 [==============================] - 221s 565ms/step - loss: 1.9424 - val_loss: 2.3741 - lr: 0.0010\n",
            "Epoch 23/30\n",
            "392/392 [==============================] - 217s 554ms/step - loss: 1.9045 - val_loss: 2.3595 - lr: 0.0010\n",
            "Epoch 24/30\n",
            "392/392 [==============================] - 213s 543ms/step - loss: 1.8693 - val_loss: 2.3526 - lr: 0.0010\n",
            "Epoch 25/30\n",
            "392/392 [==============================] - 229s 584ms/step - loss: 1.8357 - val_loss: 2.3419 - lr: 0.0010\n",
            "Epoch 26/30\n",
            "392/392 [==============================] - 222s 568ms/step - loss: 1.8041 - val_loss: 2.3328 - lr: 0.0010\n",
            "Epoch 27/30\n",
            "392/392 [==============================] - 221s 565ms/step - loss: 1.7743 - val_loss: 2.3232 - lr: 0.0010\n",
            "Epoch 28/30\n",
            "392/392 [==============================] - 212s 542ms/step - loss: 1.7455 - val_loss: 2.3185 - lr: 0.0010\n",
            "Epoch 29/30\n",
            "392/392 [==============================] - 222s 565ms/step - loss: 1.7185 - val_loss: 2.3134 - lr: 0.0010\n",
            "Epoch 30/30\n",
            "392/392 [==============================] - 222s 566ms/step - loss: 1.6927 - val_loss: 2.3079 - lr: 0.0010\n"
          ]
        },
        {
          "data": {
            "text/plain": [
              "<keras.src.callbacks.History at 0x7fd04c1d7b50>"
            ]
          },
          "execution_count": 145,
          "metadata": {},
          "output_type": "execute_result"
        }
      ],
      "source": [
        "model.fit(x=[train_enc_inp_truncated, train_dec_inp_truncated], y=train_dec_out_truncated,\n",
        "          validation_data=([val_enc_inp_truncated, val_dec_inp_truncated], val_dec_out_truncated),\n",
        "          epochs=30, batch_size=batch_size, callbacks=[early_stop, reduce_lr, check_point])"
      ]
    },
    {
      "cell_type": "code",
      "execution_count": null,
      "metadata": {
        "colab": {
          "base_uri": "https://localhost:8080/"
        },
        "id": "TuY3bRDmiyqr",
        "outputId": "f7059dbd-4d3b-42de-c2bb-472e716e99e2"
      },
      "outputs": [
        {
          "name": "stdout",
          "output_type": "stream",
          "text": [
            "Model: \"encoder_decoder_1\"\n",
            "_________________________________________________________________\n",
            " Layer (type)                Output Shape              Param #   \n",
            "=================================================================\n",
            " encoder_1 (Encoder)         multiple                  9240440   \n",
            "                                                                 \n",
            " decoder_1 (Decoder)         multiple                  7826340   \n",
            "                                                                 \n",
            " dense_1 (Dense)             multiple                  5059665   \n",
            "                                                                 \n",
            "=================================================================\n",
            "Total params: 22126445 (84.41 MB)\n",
            "Trainable params: 22126445 (84.41 MB)\n",
            "Non-trainable params: 0 (0.00 Byte)\n",
            "_________________________________________________________________\n"
          ]
        }
      ],
      "source": [
        "model.summary()"
      ]
    },
    {
      "cell_type": "code",
      "execution_count": 14,
      "metadata": {
        "id": "RADp0E3k5i71"
      },
      "outputs": [],
      "source": [
        "correct_idx_word_dict = tokenizer_dec.word_index\n",
        "correct_idx_word_dict = {v: k for k, v in correct_idx_word_dict.items()}\n",
        "\n",
        "def predict(input_sentence):\n",
        "    input_sentence = tokenizer_enc.texts_to_sequences([input_sentence])\n",
        "    initialize_hidden_state = tf.zeros([1, 64])\n",
        "    initialize_cell_state = tf.zeros([1, 64])\n",
        "    initialize_states = [initialize_hidden_state, initialize_cell_state]\n",
        "    pred_total = []\n",
        "    encoder_output, encoder_state_h, encoder_state_c = model.layers[0](np.expand_dims(input_sentence[0], 0), ini_states)\n",
        "    states_values = [encoder_state_h, encoder_state_c]\n",
        "    pred = []\n",
        "    sentence = []\n",
        "    cur_vec = np.array([[1]])\n",
        "\n",
        "    for i in range(12):\n",
        "        decoder_output, decoder_state_h, decoder_state_c = model.layers[1](cur_vec, states_values)\n",
        "        output = model.layers[2](decoder_output)\n",
        "        states_values = [decoder_state_h, decoder_state_c]\n",
        "        cur_vector = np.reshape(np.argmax(output), (1, 1))\n",
        "        if correct_idx_word_dict[cur_vec[0][0]] == '<end>':\n",
        "            break\n",
        "        pred.append(cur_vector[0][0])\n",
        "\n",
        "    for i in pred:\n",
        "        sentence.append(correct_idx_word_dict[i])\n",
        "    return \" \".join(sentence)"
      ]
    },
    {
      "cell_type": "code",
      "execution_count": null,
      "metadata": {
        "id": "5bNDfe8f5x_i"
      },
      "outputs": [],
      "source": [
        "model.save('/content/drive/MyDrive/GecDataset/lstm/model/')"
      ]
    },
    {
      "cell_type": "code",
      "execution_count": 16,
      "metadata": {
        "id": "rfxMDrvX7IZd"
      },
      "outputs": [],
      "source": [
        "test_dataset = pd.read_csv('/content/drive/MyDrive/GecDataset/gec_test.csv', na_filter=False)"
      ]
    },
    {
      "cell_type": "code",
      "execution_count": null,
      "metadata": {
        "id": "mP2IP3qs7XBY"
      },
      "outputs": [],
      "source": [
        "def gleu_score(gec_dataset):\n",
        "    gleu_score_arr = []\n",
        "    for i in tqdm(range(500)):\n",
        "        reference = [gec_dataset['correct'].iloc[i].split()]\n",
        "        pred = predict(gec_dataset['incorrect'].iloc[i])\n",
        "        candidate = pred.split()\n",
        "        gleu_score_arr.append(sentence_gleu(reference, candidate))\n",
        "    return np.mean(gleu_score_arr)"
      ]
    },
    {
      "cell_type": "code",
      "execution_count": null,
      "metadata": {
        "colab": {
          "base_uri": "https://localhost:8080/",
          "height": 66,
          "referenced_widgets": [
            "e2e1dce8bb0e4174980ff94af7e14cc3",
            "bb364cc1dc644e7f8f68949590d095a9",
            "f13975c91ff8497696c3b2fe7b48cdb2",
            "e6059ded7d744ae8a3cab8a7a1dc7734",
            "fadd8e62f77749159daebeef601b6ce1",
            "1e5a8c8ee6b643a78f22091d3ec7045d",
            "2f4ed869f758432a9cc26e4b0b849268",
            "f147ca8e21e74739adedfa5ce674cfc6",
            "bdc0b7482dad421390458da0e93c9b0f",
            "d544a6283b9c42c3a86643f0c0f9d8b7",
            "e74f429a519a438088a3b0e8187de8ee"
          ]
        },
        "id": "Gl8LudcD8ZPO",
        "outputId": "8a642fc0-f5cb-4a33-dc29-491c7ad4a953"
      },
      "outputs": [
        {
          "data": {
            "application/vnd.jupyter.widget-view+json": {
              "model_id": "e2e1dce8bb0e4174980ff94af7e14cc3",
              "version_major": 2,
              "version_minor": 0
            },
            "text/plain": [
              "  0%|          | 0/500 [00:00<?, ?it/s]"
            ]
          },
          "metadata": {},
          "output_type": "display_data"
        },
        {
          "name": "stdout",
          "output_type": "stream",
          "text": [
            "GLEU Score on Test data: 0.21755782533261941\n"
          ]
        }
      ],
      "source": [
        "print(f\"GLEU Score on Test data: {gleu_score(test_dataset)}\")"
      ]
    }
  ],
  "metadata": {
    "accelerator": "GPU",
    "colab": {
      "gpuType": "T4",
      "provenance": []
    },
    "kernelspec": {
      "display_name": "Python 3 (ipykernel)",
      "language": "python",
      "name": "python3"
    },
    "language_info": {
      "codemirror_mode": {
        "name": "ipython",
        "version": 3
      },
      "file_extension": ".py",
      "mimetype": "text/x-python",
      "name": "python",
      "nbconvert_exporter": "python",
      "pygments_lexer": "ipython3",
      "version": "3.11.5"
    },
    "widgets": {
      "application/vnd.jupyter.widget-state+json": {
        "1e5a8c8ee6b643a78f22091d3ec7045d": {
          "model_module": "@jupyter-widgets/base",
          "model_module_version": "1.2.0",
          "model_name": "LayoutModel",
          "state": {
            "_model_module": "@jupyter-widgets/base",
            "_model_module_version": "1.2.0",
            "_model_name": "LayoutModel",
            "_view_count": null,
            "_view_module": "@jupyter-widgets/base",
            "_view_module_version": "1.2.0",
            "_view_name": "LayoutView",
            "align_content": null,
            "align_items": null,
            "align_self": null,
            "border": null,
            "bottom": null,
            "display": null,
            "flex": null,
            "flex_flow": null,
            "grid_area": null,
            "grid_auto_columns": null,
            "grid_auto_flow": null,
            "grid_auto_rows": null,
            "grid_column": null,
            "grid_gap": null,
            "grid_row": null,
            "grid_template_areas": null,
            "grid_template_columns": null,
            "grid_template_rows": null,
            "height": null,
            "justify_content": null,
            "justify_items": null,
            "left": null,
            "margin": null,
            "max_height": null,
            "max_width": null,
            "min_height": null,
            "min_width": null,
            "object_fit": null,
            "object_position": null,
            "order": null,
            "overflow": null,
            "overflow_x": null,
            "overflow_y": null,
            "padding": null,
            "right": null,
            "top": null,
            "visibility": null,
            "width": null
          }
        },
        "2f4ed869f758432a9cc26e4b0b849268": {
          "model_module": "@jupyter-widgets/controls",
          "model_module_version": "1.5.0",
          "model_name": "DescriptionStyleModel",
          "state": {
            "_model_module": "@jupyter-widgets/controls",
            "_model_module_version": "1.5.0",
            "_model_name": "DescriptionStyleModel",
            "_view_count": null,
            "_view_module": "@jupyter-widgets/base",
            "_view_module_version": "1.2.0",
            "_view_name": "StyleView",
            "description_width": ""
          }
        },
        "bb364cc1dc644e7f8f68949590d095a9": {
          "model_module": "@jupyter-widgets/controls",
          "model_module_version": "1.5.0",
          "model_name": "HTMLModel",
          "state": {
            "_dom_classes": [],
            "_model_module": "@jupyter-widgets/controls",
            "_model_module_version": "1.5.0",
            "_model_name": "HTMLModel",
            "_view_count": null,
            "_view_module": "@jupyter-widgets/controls",
            "_view_module_version": "1.5.0",
            "_view_name": "HTMLView",
            "description": "",
            "description_tooltip": null,
            "layout": "IPY_MODEL_1e5a8c8ee6b643a78f22091d3ec7045d",
            "placeholder": "​",
            "style": "IPY_MODEL_2f4ed869f758432a9cc26e4b0b849268",
            "value": "100%"
          }
        },
        "bdc0b7482dad421390458da0e93c9b0f": {
          "model_module": "@jupyter-widgets/controls",
          "model_module_version": "1.5.0",
          "model_name": "ProgressStyleModel",
          "state": {
            "_model_module": "@jupyter-widgets/controls",
            "_model_module_version": "1.5.0",
            "_model_name": "ProgressStyleModel",
            "_view_count": null,
            "_view_module": "@jupyter-widgets/base",
            "_view_module_version": "1.2.0",
            "_view_name": "StyleView",
            "bar_color": null,
            "description_width": ""
          }
        },
        "d544a6283b9c42c3a86643f0c0f9d8b7": {
          "model_module": "@jupyter-widgets/base",
          "model_module_version": "1.2.0",
          "model_name": "LayoutModel",
          "state": {
            "_model_module": "@jupyter-widgets/base",
            "_model_module_version": "1.2.0",
            "_model_name": "LayoutModel",
            "_view_count": null,
            "_view_module": "@jupyter-widgets/base",
            "_view_module_version": "1.2.0",
            "_view_name": "LayoutView",
            "align_content": null,
            "align_items": null,
            "align_self": null,
            "border": null,
            "bottom": null,
            "display": null,
            "flex": null,
            "flex_flow": null,
            "grid_area": null,
            "grid_auto_columns": null,
            "grid_auto_flow": null,
            "grid_auto_rows": null,
            "grid_column": null,
            "grid_gap": null,
            "grid_row": null,
            "grid_template_areas": null,
            "grid_template_columns": null,
            "grid_template_rows": null,
            "height": null,
            "justify_content": null,
            "justify_items": null,
            "left": null,
            "margin": null,
            "max_height": null,
            "max_width": null,
            "min_height": null,
            "min_width": null,
            "object_fit": null,
            "object_position": null,
            "order": null,
            "overflow": null,
            "overflow_x": null,
            "overflow_y": null,
            "padding": null,
            "right": null,
            "top": null,
            "visibility": null,
            "width": null
          }
        },
        "e2e1dce8bb0e4174980ff94af7e14cc3": {
          "model_module": "@jupyter-widgets/controls",
          "model_module_version": "1.5.0",
          "model_name": "HBoxModel",
          "state": {
            "_dom_classes": [],
            "_model_module": "@jupyter-widgets/controls",
            "_model_module_version": "1.5.0",
            "_model_name": "HBoxModel",
            "_view_count": null,
            "_view_module": "@jupyter-widgets/controls",
            "_view_module_version": "1.5.0",
            "_view_name": "HBoxView",
            "box_style": "",
            "children": [
              "IPY_MODEL_bb364cc1dc644e7f8f68949590d095a9",
              "IPY_MODEL_f13975c91ff8497696c3b2fe7b48cdb2",
              "IPY_MODEL_e6059ded7d744ae8a3cab8a7a1dc7734"
            ],
            "layout": "IPY_MODEL_fadd8e62f77749159daebeef601b6ce1"
          }
        },
        "e6059ded7d744ae8a3cab8a7a1dc7734": {
          "model_module": "@jupyter-widgets/controls",
          "model_module_version": "1.5.0",
          "model_name": "HTMLModel",
          "state": {
            "_dom_classes": [],
            "_model_module": "@jupyter-widgets/controls",
            "_model_module_version": "1.5.0",
            "_model_name": "HTMLModel",
            "_view_count": null,
            "_view_module": "@jupyter-widgets/controls",
            "_view_module_version": "1.5.0",
            "_view_name": "HTMLView",
            "description": "",
            "description_tooltip": null,
            "layout": "IPY_MODEL_d544a6283b9c42c3a86643f0c0f9d8b7",
            "placeholder": "​",
            "style": "IPY_MODEL_e74f429a519a438088a3b0e8187de8ee",
            "value": " 500/500 [01:14&lt;00:00,  7.55it/s]"
          }
        },
        "e74f429a519a438088a3b0e8187de8ee": {
          "model_module": "@jupyter-widgets/controls",
          "model_module_version": "1.5.0",
          "model_name": "DescriptionStyleModel",
          "state": {
            "_model_module": "@jupyter-widgets/controls",
            "_model_module_version": "1.5.0",
            "_model_name": "DescriptionStyleModel",
            "_view_count": null,
            "_view_module": "@jupyter-widgets/base",
            "_view_module_version": "1.2.0",
            "_view_name": "StyleView",
            "description_width": ""
          }
        },
        "f13975c91ff8497696c3b2fe7b48cdb2": {
          "model_module": "@jupyter-widgets/controls",
          "model_module_version": "1.5.0",
          "model_name": "FloatProgressModel",
          "state": {
            "_dom_classes": [],
            "_model_module": "@jupyter-widgets/controls",
            "_model_module_version": "1.5.0",
            "_model_name": "FloatProgressModel",
            "_view_count": null,
            "_view_module": "@jupyter-widgets/controls",
            "_view_module_version": "1.5.0",
            "_view_name": "ProgressView",
            "bar_style": "success",
            "description": "",
            "description_tooltip": null,
            "layout": "IPY_MODEL_f147ca8e21e74739adedfa5ce674cfc6",
            "max": 500,
            "min": 0,
            "orientation": "horizontal",
            "style": "IPY_MODEL_bdc0b7482dad421390458da0e93c9b0f",
            "value": 500
          }
        },
        "f147ca8e21e74739adedfa5ce674cfc6": {
          "model_module": "@jupyter-widgets/base",
          "model_module_version": "1.2.0",
          "model_name": "LayoutModel",
          "state": {
            "_model_module": "@jupyter-widgets/base",
            "_model_module_version": "1.2.0",
            "_model_name": "LayoutModel",
            "_view_count": null,
            "_view_module": "@jupyter-widgets/base",
            "_view_module_version": "1.2.0",
            "_view_name": "LayoutView",
            "align_content": null,
            "align_items": null,
            "align_self": null,
            "border": null,
            "bottom": null,
            "display": null,
            "flex": null,
            "flex_flow": null,
            "grid_area": null,
            "grid_auto_columns": null,
            "grid_auto_flow": null,
            "grid_auto_rows": null,
            "grid_column": null,
            "grid_gap": null,
            "grid_row": null,
            "grid_template_areas": null,
            "grid_template_columns": null,
            "grid_template_rows": null,
            "height": null,
            "justify_content": null,
            "justify_items": null,
            "left": null,
            "margin": null,
            "max_height": null,
            "max_width": null,
            "min_height": null,
            "min_width": null,
            "object_fit": null,
            "object_position": null,
            "order": null,
            "overflow": null,
            "overflow_x": null,
            "overflow_y": null,
            "padding": null,
            "right": null,
            "top": null,
            "visibility": null,
            "width": null
          }
        },
        "fadd8e62f77749159daebeef601b6ce1": {
          "model_module": "@jupyter-widgets/base",
          "model_module_version": "1.2.0",
          "model_name": "LayoutModel",
          "state": {
            "_model_module": "@jupyter-widgets/base",
            "_model_module_version": "1.2.0",
            "_model_name": "LayoutModel",
            "_view_count": null,
            "_view_module": "@jupyter-widgets/base",
            "_view_module_version": "1.2.0",
            "_view_name": "LayoutView",
            "align_content": null,
            "align_items": null,
            "align_self": null,
            "border": null,
            "bottom": null,
            "display": null,
            "flex": null,
            "flex_flow": null,
            "grid_area": null,
            "grid_auto_columns": null,
            "grid_auto_flow": null,
            "grid_auto_rows": null,
            "grid_column": null,
            "grid_gap": null,
            "grid_row": null,
            "grid_template_areas": null,
            "grid_template_columns": null,
            "grid_template_rows": null,
            "height": null,
            "justify_content": null,
            "justify_items": null,
            "left": null,
            "margin": null,
            "max_height": null,
            "max_width": null,
            "min_height": null,
            "min_width": null,
            "object_fit": null,
            "object_position": null,
            "order": null,
            "overflow": null,
            "overflow_x": null,
            "overflow_y": null,
            "padding": null,
            "right": null,
            "top": null,
            "visibility": null,
            "width": null
          }
        }
      }
    }
  },
  "nbformat": 4,
  "nbformat_minor": 0
}
